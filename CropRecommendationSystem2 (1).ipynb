{
 "cells": [
  {
   "cell_type": "code",
   "execution_count": null,
   "metadata": {
    "id": "USebO1_ccp0o"
   },
   "outputs": [],
   "source": [
    "import numpy as np\n",
    "import pandas as pd\n",
    "import matplotlib.pyplot as plt\n",
    "import seaborn as sns"
   ]
  },
  {
   "cell_type": "code",
   "execution_count": null,
   "metadata": {
    "colab": {
     "base_uri": "https://localhost:8080/"
    },
    "id": "KD2wHnNicp0o",
    "outputId": "b9ac5f13-2d42-4f51-cc04-a0a429801b8d"
   },
   "outputs": [
    {
     "name": "stdout",
     "output_type": "stream",
     "text": [
      "Mounted at /content/drive\n"
     ]
    }
   ],
   "source": [
    "from google.colab import drive\n",
    "drive.mount('/content/drive')"
   ]
  },
  {
   "cell_type": "code",
   "execution_count": null,
   "metadata": {
    "colab": {
     "base_uri": "https://localhost:8080/"
    },
    "id": "YzB6VQ6qcp0o",
    "outputId": "4b64bb41-249a-4acd-9071-ac5b69cec0f2"
   },
   "outputs": [
    {
     "name": "stdout",
     "output_type": "stream",
     "text": [
      "['.config', 'drive', 'sample_data']\n",
      "['FinalData.csv', 'Fertilizer.csv', 'FertilizerData.csv', 'Rainfall.csv', 'MergeFileCrop.csv', 'cpdata.csv', 'Soil_Dataset']\n",
      "['Test', 'Train']\n"
     ]
    }
   ],
   "source": [
    "import os\n",
    "curr_dir = os.getcwd()\n",
    "print(os.listdir(curr_dir))\n",
    "drive_path = os.path.join(curr_dir,'drive','MyDrive')\n",
    "dataset_path = os.path.join(drive_path,'Pianalytix_Datasets')\n",
    "print(os.listdir(dataset_path))\n",
    "image_dataset_path = os.path.join(dataset_path,'Soil_Dataset')\n",
    "print(os.listdir(image_dataset_path))"
   ]
  },
  {
   "cell_type": "code",
   "execution_count": null,
   "metadata": {
    "id": "MfMmijXscp0p"
   },
   "outputs": [],
   "source": [
    "train_data = os.path.join(image_dataset_path,'Train')\n",
    "test_data = os.path.join(image_dataset_path,'Test')"
   ]
  },
  {
   "cell_type": "code",
   "execution_count": null,
   "metadata": {
    "colab": {
     "base_uri": "https://localhost:8080/"
    },
    "id": "b5EA7_qMcp0p",
    "outputId": "b0926dca-0e4c-4d03-aa3a-92f89ee234d0"
   },
   "outputs": [
    {
     "data": {
      "text/plain": [
       "['Alluvial', 'Clay', 'Red', 'Black']"
      ]
     },
     "execution_count": 5,
     "metadata": {
      "tags": []
     },
     "output_type": "execute_result"
    }
   ],
   "source": [
    "os.listdir(train_data)"
   ]
  },
  {
   "cell_type": "code",
   "execution_count": null,
   "metadata": {
    "id": "ZbG5ROK2cp0p"
   },
   "outputs": [],
   "source": [
    "train_alluvial_data = os.path.join(train_data,'Alluvial')\n",
    "train_black_data = os.path.join(train_data,'Black')\n",
    "train_clay_data = os.path.join(train_data,'Clay')\n",
    "train_red_data = os.path.join(train_data,'Red')"
   ]
  },
  {
   "cell_type": "code",
   "execution_count": null,
   "metadata": {
    "id": "LCLcYSWkcp0q"
   },
   "outputs": [],
   "source": [
    "test_alluvial_data = os.path.join(test_data,'Alluvial')\n",
    "test_black_data = os.path.join(test_data,'Black')\n",
    "test_clay_data = os.path.join(test_data,'Clay')\n",
    "test_red_data = os.path.join(test_data,'Red')"
   ]
  },
  {
   "cell_type": "code",
   "execution_count": null,
   "metadata": {
    "id": "S1j7Lq2Zcp0q"
   },
   "outputs": [],
   "source": [
    "def SamplesCount(dname): \n",
    "    return len(os.listdir(dname))"
   ]
  },
  {
   "cell_type": "code",
   "execution_count": null,
   "metadata": {
    "colab": {
     "base_uri": "https://localhost:8080/"
    },
    "id": "Rzu5-Uqacp0q",
    "outputId": "e02e105e-3c28-4211-a586-c5397b0d35f5"
   },
   "outputs": [
    {
     "name": "stdout",
     "output_type": "stream",
     "text": [
      "Training Samples\n",
      " Sample count for Alluvial Soil => 175\n",
      " Sample count for Black Soil => 212\n",
      " Sample count for Clay Soil => 144\n",
      " Sample count for Red Soil => 184\n"
     ]
    }
   ],
   "source": [
    "print(\"Training Samples\")\n",
    "print(f\" Sample count for Alluvial Soil => { SamplesCount(train_alluvial_data)}\")\n",
    "print(f\" Sample count for Black Soil => { SamplesCount(train_black_data)}\")\n",
    "print(f\" Sample count for Clay Soil => { SamplesCount(train_clay_data)}\")\n",
    "print(f\" Sample count for Red Soil => { SamplesCount(train_red_data)}\")"
   ]
  },
  {
   "cell_type": "code",
   "execution_count": null,
   "metadata": {
    "colab": {
     "base_uri": "https://localhost:8080/"
    },
    "id": "OkuzRFSAcp0q",
    "outputId": "669b57e7-87dc-4bb4-f7b9-bf27fec24430"
   },
   "outputs": [
    {
     "name": "stdout",
     "output_type": "stream",
     "text": [
      "Testing Samples\n",
      " Sample count for Alluvial Soil => 48\n",
      " Sample count for Black Soil => 47\n",
      " Sample count for Clay Soil => 47\n",
      " Sample count for Red Soil => 46\n"
     ]
    }
   ],
   "source": [
    "print(\"Testing Samples\")\n",
    "print(f\" Sample count for Alluvial Soil => { SamplesCount(test_alluvial_data)}\")\n",
    "print(f\" Sample count for Black Soil => { SamplesCount(test_black_data)}\")\n",
    "print(f\" Sample count for Clay Soil => { SamplesCount(test_clay_data)}\")\n",
    "print(f\" Sample count for Red Soil => { SamplesCount(test_red_data)}\")"
   ]
  },
  {
   "cell_type": "code",
   "execution_count": null,
   "metadata": {
    "id": "6Fwc7i_Ocp0q"
   },
   "outputs": [],
   "source": [
    "from tensorflow.keras.layers import Dense , Flatten , Conv2D , MaxPooling2D , Dropout\n",
    "from tensorflow.keras.models import Sequential\n",
    "\n",
    "model = Sequential()\n",
    "\n",
    "model.add(Conv2D( 32 , (3,3) , activation = 'relu' , input_shape = (150,150,3) ))\n",
    "\n",
    "model.add(MaxPooling2D((2,2)))\n",
    "\n",
    "model.add(Conv2D( 64 , (3,3) , activation = 'relu'  ))\n",
    "\n",
    "model.add(MaxPooling2D((2,2)))\n",
    "\n",
    "model.add(Conv2D( 128 , (3,3) , activation = 'relu'  ))\n",
    "\n",
    "model.add(MaxPooling2D((2,2)))\n",
    "\n",
    "model.add(Conv2D( 128 , (3,3) , activation = 'relu'  ))\n",
    "\n",
    "model.add(MaxPooling2D((2,2)))\n",
    "\n",
    "model.add(Conv2D( 32 , (3,3) , activation = 'relu'  ))\n",
    "\n",
    "model.add(MaxPooling2D((2,2)))\n",
    "\n",
    "model.add(Flatten())\n",
    "\n",
    "model.add(Dense(512 , activation = 'relu' ))\n",
    "\n",
    "model.add(Dense(1 , activation = 'sigmoid' ))\n"
   ]
  },
  {
   "cell_type": "code",
   "execution_count": null,
   "metadata": {
    "colab": {
     "base_uri": "https://localhost:8080/"
    },
    "id": "PgEsoSoscp0q",
    "outputId": "e746f638-f8fd-4d86-e5de-3645dbe6f20a"
   },
   "outputs": [
    {
     "name": "stdout",
     "output_type": "stream",
     "text": [
      "Model: \"sequential\"\n",
      "_________________________________________________________________\n",
      "Layer (type)                 Output Shape              Param #   \n",
      "=================================================================\n",
      "conv2d (Conv2D)              (None, 148, 148, 32)      896       \n",
      "_________________________________________________________________\n",
      "max_pooling2d (MaxPooling2D) (None, 74, 74, 32)        0         \n",
      "_________________________________________________________________\n",
      "conv2d_1 (Conv2D)            (None, 72, 72, 64)        18496     \n",
      "_________________________________________________________________\n",
      "max_pooling2d_1 (MaxPooling2 (None, 36, 36, 64)        0         \n",
      "_________________________________________________________________\n",
      "conv2d_2 (Conv2D)            (None, 34, 34, 128)       73856     \n",
      "_________________________________________________________________\n",
      "max_pooling2d_2 (MaxPooling2 (None, 17, 17, 128)       0         \n",
      "_________________________________________________________________\n",
      "conv2d_3 (Conv2D)            (None, 15, 15, 128)       147584    \n",
      "_________________________________________________________________\n",
      "max_pooling2d_3 (MaxPooling2 (None, 7, 7, 128)         0         \n",
      "_________________________________________________________________\n",
      "conv2d_4 (Conv2D)            (None, 5, 5, 32)          36896     \n",
      "_________________________________________________________________\n",
      "max_pooling2d_4 (MaxPooling2 (None, 2, 2, 32)          0         \n",
      "_________________________________________________________________\n",
      "flatten (Flatten)            (None, 128)               0         \n",
      "_________________________________________________________________\n",
      "dense (Dense)                (None, 512)               66048     \n",
      "_________________________________________________________________\n",
      "dense_1 (Dense)              (None, 1)                 513       \n",
      "=================================================================\n",
      "Total params: 344,289\n",
      "Trainable params: 344,289\n",
      "Non-trainable params: 0\n",
      "_________________________________________________________________\n"
     ]
    }
   ],
   "source": [
    "model.summary()"
   ]
  },
  {
   "cell_type": "code",
   "execution_count": null,
   "metadata": {
    "id": "A6XqUvk2cp0q"
   },
   "outputs": [],
   "source": [
    "from tensorflow.keras.optimizers import RMSprop\n",
    "model.compile( loss = 'binary_crossentropy' ,optimizer = RMSprop(lr = 1e-4) , metrics = ['acc'])"
   ]
  },
  {
   "cell_type": "code",
   "execution_count": null,
   "metadata": {
    "colab": {
     "base_uri": "https://localhost:8080/"
    },
    "id": "09W6U-cpcp0q",
    "outputId": "32a75444-696f-4970-d569-f79bb22e56b0"
   },
   "outputs": [
    {
     "name": "stdout",
     "output_type": "stream",
     "text": [
      "Found 715 images belonging to 4 classes.\n",
      "Found 188 images belonging to 4 classes.\n"
     ]
    }
   ],
   "source": [
    "### preprocessing our images before feeding them into the network\n",
    "\n",
    "from tensorflow.keras.preprocessing.image import ImageDataGenerator\n",
    "\n",
    "train_datagen = ImageDataGenerator(\n",
    "                    rescale = 1./255,\n",
    "                    rotation_range = 40 ,\n",
    "                    width_shift_range = 0.2,\n",
    "                    height_shift_range = 0.2,\n",
    "                    shear_range = 0.2,\n",
    "                    zoom_range = 0.2,\n",
    "                    horizontal_flip = True,\n",
    "                    fill_mode = 'nearest'\n",
    "                )\n",
    "\n",
    "test_datagen = ImageDataGenerator(rescale = 1./255)\n",
    "\n",
    "train_generator = train_datagen.flow_from_directory(\n",
    "                        train_data ,\n",
    "                        target_size = (150,150),\n",
    "                        batch_size = 20,\n",
    "                        class_mode='categorical'\n",
    "                )\n",
    "\n",
    "test_generator = test_datagen.flow_from_directory(\n",
    "                        test_data ,\n",
    "                        target_size = (150,150),\n",
    "                        batch_size = 20,\n",
    "                        class_mode='categorical'\n",
    "                )"
   ]
  },
  {
   "cell_type": "code",
   "execution_count": null,
   "metadata": {
    "colab": {
     "background_save": true,
     "base_uri": "https://localhost:8080/"
    },
    "id": "enLrHlSgcp0q",
    "outputId": "2c769594-7ec3-4ab4-e586-e6816a48bbba"
   },
   "outputs": [
    {
     "name": "stdout",
     "output_type": "stream",
     "text": [
      "Epoch 1/25\n",
      "36/36 [==============================] - 377s 10s/step - loss: 0.5881 - acc: 0.7360\n",
      "Epoch 2/25\n",
      "36/36 [==============================] - 34s 945ms/step - loss: 0.5695 - acc: 0.7500\n",
      "Epoch 3/25\n",
      "36/36 [==============================] - 34s 946ms/step - loss: 0.5673 - acc: 0.7500\n",
      "Epoch 4/25\n",
      "36/36 [==============================] - 34s 939ms/step - loss: 0.5654 - acc: 0.7500\n",
      "Epoch 5/25\n",
      "36/36 [==============================] - 34s 937ms/step - loss: 0.5646 - acc: 0.7500\n",
      "Epoch 6/25\n",
      "36/36 [==============================] - 34s 934ms/step - loss: 0.5640 - acc: 0.7500\n",
      "Epoch 7/25\n",
      "36/36 [==============================] - 34s 937ms/step - loss: 0.5638 - acc: 0.7500\n",
      "Epoch 8/25\n",
      "36/36 [==============================] - 34s 944ms/step - loss: 0.5637 - acc: 0.7500\n",
      "Epoch 9/25\n",
      "36/36 [==============================] - 34s 941ms/step - loss: 0.5634 - acc: 0.7500\n",
      "Epoch 10/25\n",
      "36/36 [==============================] - 34s 937ms/step - loss: 0.5634 - acc: 0.7500\n",
      "Epoch 11/25\n",
      "36/36 [==============================] - 34s 937ms/step - loss: 0.5632 - acc: 0.7500\n",
      "Epoch 12/25\n",
      "36/36 [==============================] - 34s 941ms/step - loss: 0.5633 - acc: 0.7500\n",
      "Epoch 13/25\n",
      "36/36 [==============================] - 34s 937ms/step - loss: 0.5631 - acc: 0.7500\n",
      "Epoch 14/25\n",
      "36/36 [==============================] - 34s 940ms/step - loss: 0.5631 - acc: 0.7500\n",
      "Epoch 15/25\n",
      "36/36 [==============================] - 34s 937ms/step - loss: 0.5631 - acc: 0.7500\n",
      "Epoch 16/25\n",
      "36/36 [==============================] - 34s 936ms/step - loss: 0.5630 - acc: 0.7500\n",
      "Epoch 17/25\n",
      "36/36 [==============================] - 34s 936ms/step - loss: 0.5630 - acc: 0.7500\n",
      "Epoch 18/25\n",
      "36/36 [==============================] - 34s 933ms/step - loss: 0.5630 - acc: 0.7500\n",
      "Epoch 19/25\n",
      "36/36 [==============================] - 34s 932ms/step - loss: 0.5630 - acc: 0.7500\n",
      "Epoch 20/25\n",
      "36/36 [==============================] - 34s 936ms/step - loss: 0.5629 - acc: 0.7500\n",
      "Epoch 21/25\n",
      "36/36 [==============================] - 34s 936ms/step - loss: 0.5629 - acc: 0.7500\n",
      "Epoch 22/25\n",
      "36/36 [==============================] - 34s 935ms/step - loss: 0.5629 - acc: 0.7500\n",
      "Epoch 23/25\n",
      "36/36 [==============================] - 34s 941ms/step - loss: 0.5628 - acc: 0.7500\n",
      "Epoch 24/25\n",
      "36/36 [==============================] - 34s 938ms/step - loss: 0.5628 - acc: 0.7500\n",
      "Epoch 25/25\n",
      "36/36 [==============================] - 34s 937ms/step - loss: 0.5627 - acc: 0.7500\n"
     ]
    }
   ],
   "source": [
    "history = model.fit(\n",
    "            train_generator,\n",
    "            epochs = 5\n",
    "        )"
   ]
  },
  {
   "cell_type": "code",
   "execution_count": null,
   "metadata": {
    "colab": {
     "base_uri": "https://localhost:8080/",
     "height": 281
    },
    "id": "TH2PmjJLjybt",
    "outputId": "324ea81b-b9b3-4d24-fc9e-f661194b0296"
   },
   "outputs": [
    {
     "data": {
      "image/png": "[encoded data removed]",
      "text/plain": [
       "<Figure size 432x288 with 1 Axes>"
      ]
     },
     "metadata": {
      "tags": []
     },
     "output_type": "display_data"
    }
   ],
   "source": [
    "plt.plot(epochs , loss , color = 'green' , label = 'Training loss')\n",
    "plt.title('Training Loss')\n",
    "plt.legend()\n",
    "\n",
    "plt.show()"
   ]
  },
  {
   "cell_type": "code",
   "execution_count": null,
   "metadata": {
    "colab": {
     "base_uri": "https://localhost:8080/",
     "height": 281
    },
    "id": "3Q5LL81fcp0q",
    "outputId": "ab186e55-8c19-4358-ed21-619d57365307"
   },
   "outputs": [
    {
     "data": {
      "image/png": "[encoded data removed]",
      "text/plain": [
       "<Figure size 432x288 with 1 Axes>"
      ]
     },
     "metadata": {
      "tags": []
     },
     "output_type": "display_data"
    }
   ],
   "source": [
    "acc = history.history['acc']\n",
    "loss = history.history['loss']\n",
    "\n",
    "epochs = range(1, len(acc) + 1)\n",
    "\n",
    "plt.plot(epochs , acc , color = 'green' , label = 'Training accuracy')\n",
    "plt.title('Training Accuracy')\n",
    "plt.legend()\n",
    "\n",
    "plt.show()"
   ]
  },
  {
   "cell_type": "code",
   "execution_count": null,
   "metadata": {
    "colab": {
     "base_uri": "https://localhost:8080/"
    },
    "id": "eHwd0Efgcp0r",
    "outputId": "c0fcc541-d01e-41b0-a7c2-dde7e79efc02"
   },
   "outputs": [
    {
     "name": "stdout",
     "output_type": "stream",
     "text": [
      "10/50 [=====>........................] - ETA: 3:48 - loss: 0.5626 - acc: 0.7500WARNING:tensorflow:Your input ran out of data; interrupting training. Make sure that your dataset or generator can generate at least `steps_per_epoch * epochs` batches (in this case, 50 batches). You may need to use the repeat() function when building your dataset.\n",
      "10/50 [=====>........................] - 57s 6s/step - loss: 0.5626 - acc: 0.7500\n",
      "Test accuracy : --->  0.75\n"
     ]
    }
   ],
   "source": [
    "test_loss , test_acc = model.evaluate(test_generator , steps = 50)\n",
    "print(\"Test accuracy : ---> \",test_acc)"
   ]
  },
  {
   "cell_type": "code",
   "execution_count": null,
   "metadata": {
    "id": "OSWw2u-hcp0r"
   },
   "outputs": [],
   "source": []
  }
 ],
 "metadata": {
  "accelerator": "GPU",
  "colab": {
   "name": "CropRecommendationSystem2.ipynb",
   "provenance": []
  },
  "kernelspec": {
   "display_name": "Python 3",
   "language": "python",
   "name": "python3"
  },
  "language_info": {
   "codemirror_mode": {
    "name": "ipython",
    "version": 3
   },
   "file_extension": ".py",
   "mimetype": "text/x-python",
   "name": "python",
   "nbconvert_exporter": "python",
   "pygments_lexer": "ipython3",
   "version": "3.7.6"
  },
  "toc": {
   "base_numbering": 1,
   "nav_menu": {},
   "number_sections": true,
   "sideBar": true,
   "skip_h1_title": false,
   "title_cell": "Table of Contents",
   "title_sidebar": "Contents",
   "toc_cell": false,
   "toc_position": {},
   "toc_section_display": true,
   "toc_window_display": false
  }
 },
 "nbformat": 4,
 "nbformat_minor": 1
}
